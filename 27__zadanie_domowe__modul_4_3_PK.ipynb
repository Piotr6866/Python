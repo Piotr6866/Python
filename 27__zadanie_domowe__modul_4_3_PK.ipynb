{
 "cells": [
  {
   "cell_type": "markdown",
   "metadata": {},
   "source": [
    "# Zadanie domowe - Obróbka danych\n",
    "* Twoim zadaniem jest wykonanie obróbki danych zawartych w załączonym pliku CSV.\n",
    "* Pozbądź się wszystkich rzędów które zawierają duplikaty\n",
    "* Rozbij kolumnę `'Name'` na dwie kolumny `'Imie'` i `'Nazwisko'`\n",
    "* Usuń kolumnę `'Name'`\n",
    "* Napraw rzędy które zawierają brakuące dane\n",
    "* Zmień nazwy kolumn:\n",
    "    - `'Age'` -> `'Wiek'`\n",
    "    - `'Height'` -> `'Wzrost'`\n",
    "    - `'Weight'` -> `'Waga'`\n",
    "    - `'Address'` -> `'Adres'`\n",
    "      \n",
    "* Dodaj kolumnę 'BMI' obliczoną jako `Waga / (Wzrost / 100) ^ 2`\n",
    "* Posortuj DataFrame po kolumnie 'BMI' malejąco\n",
    "* Zapisz zmodyfikowany DataFrame do pliku CSV\n",
    "* Wykorzystaj nowo nabytą wiedzę z biblioteki Pandas\n",
    "* Prześlij na discordzie (`#modul-4-zad3`) notebook z rozwiązaniem oraz plik CSV z wynikami\n"
   ]
  },
  {
   "cell_type": "code",
   "execution_count": 1,
   "metadata": {},
   "outputs": [],
   "source": [
    "import pandas as pd"
   ]
  },
  {
   "cell_type": "code",
   "execution_count": 2,
   "metadata": {},
   "outputs": [
    {
     "data": {
      "text/html": [
       "<div>\n",
       "<style scoped>\n",
       "    .dataframe tbody tr th:only-of-type {\n",
       "        vertical-align: middle;\n",
       "    }\n",
       "\n",
       "    .dataframe tbody tr th {\n",
       "        vertical-align: top;\n",
       "    }\n",
       "\n",
       "    .dataframe thead th {\n",
       "        text-align: right;\n",
       "    }\n",
       "</style>\n",
       "<table border=\"1\" class=\"dataframe\">\n",
       "  <thead>\n",
       "    <tr style=\"text-align: right;\">\n",
       "      <th></th>\n",
       "      <th>Age</th>\n",
       "      <th>Name</th>\n",
       "      <th>Address</th>\n",
       "      <th>Height</th>\n",
       "      <th>Weight</th>\n",
       "    </tr>\n",
       "  </thead>\n",
       "  <tbody>\n",
       "    <tr>\n",
       "      <th>0</th>\n",
       "      <td>23.0</td>\n",
       "      <td>Shawn Levine</td>\n",
       "      <td>463 Lewis Lake\\nHernandezfurt, WV 74504</td>\n",
       "      <td>174.0</td>\n",
       "      <td>61.0</td>\n",
       "    </tr>\n",
       "    <tr>\n",
       "      <th>1</th>\n",
       "      <td>100.0</td>\n",
       "      <td>Jeffery Davis</td>\n",
       "      <td>NaN</td>\n",
       "      <td>168.0</td>\n",
       "      <td>62.0</td>\n",
       "    </tr>\n",
       "    <tr>\n",
       "      <th>2</th>\n",
       "      <td>28.0</td>\n",
       "      <td>Angela Potter</td>\n",
       "      <td>NaN</td>\n",
       "      <td>NaN</td>\n",
       "      <td>60.0</td>\n",
       "    </tr>\n",
       "    <tr>\n",
       "      <th>3</th>\n",
       "      <td>30.0</td>\n",
       "      <td>Jacob Daugherty</td>\n",
       "      <td>91528 Ballard Falls Apt. 779\\nEast Gregory, SD...</td>\n",
       "      <td>170.0</td>\n",
       "      <td>81.0</td>\n",
       "    </tr>\n",
       "    <tr>\n",
       "      <th>4</th>\n",
       "      <td>99.0</td>\n",
       "      <td>Zachary Watson</td>\n",
       "      <td>3582 Tracy Lakes\\nNew Shelly, WY 32429</td>\n",
       "      <td>179.0</td>\n",
       "      <td>85.0</td>\n",
       "    </tr>\n",
       "    <tr>\n",
       "      <th>...</th>\n",
       "      <td>...</td>\n",
       "      <td>...</td>\n",
       "      <td>...</td>\n",
       "      <td>...</td>\n",
       "      <td>...</td>\n",
       "    </tr>\n",
       "    <tr>\n",
       "      <th>1095</th>\n",
       "      <td>21.0</td>\n",
       "      <td>Paul Scott</td>\n",
       "      <td>795 Melissa Forge Suite 460\\nMonicaton, KY 11184</td>\n",
       "      <td>196.0</td>\n",
       "      <td>68.0</td>\n",
       "    </tr>\n",
       "    <tr>\n",
       "      <th>1096</th>\n",
       "      <td>88.0</td>\n",
       "      <td>Donna Rios</td>\n",
       "      <td>59669 Shelby Meadows\\nSaraside, WV 95598</td>\n",
       "      <td>184.0</td>\n",
       "      <td>NaN</td>\n",
       "    </tr>\n",
       "    <tr>\n",
       "      <th>1097</th>\n",
       "      <td>44.0</td>\n",
       "      <td>Brad Allen</td>\n",
       "      <td>NaN</td>\n",
       "      <td>176.0</td>\n",
       "      <td>89.0</td>\n",
       "    </tr>\n",
       "    <tr>\n",
       "      <th>1098</th>\n",
       "      <td>51.0</td>\n",
       "      <td>Chad Kennedy</td>\n",
       "      <td>Unit 9710 Box 4847\\nDPO AE 62031</td>\n",
       "      <td>199.0</td>\n",
       "      <td>NaN</td>\n",
       "    </tr>\n",
       "    <tr>\n",
       "      <th>1099</th>\n",
       "      <td>48.0</td>\n",
       "      <td>Jason Elliott</td>\n",
       "      <td>82102 Lee Drive Apt. 539\\nKellymouth, MP 18346</td>\n",
       "      <td>188.0</td>\n",
       "      <td>61.0</td>\n",
       "    </tr>\n",
       "  </tbody>\n",
       "</table>\n",
       "<p>1100 rows × 5 columns</p>\n",
       "</div>"
      ],
      "text/plain": [
       "        Age             Name  \\\n",
       "0      23.0     Shawn Levine   \n",
       "1     100.0    Jeffery Davis   \n",
       "2      28.0    Angela Potter   \n",
       "3      30.0  Jacob Daugherty   \n",
       "4      99.0   Zachary Watson   \n",
       "...     ...              ...   \n",
       "1095   21.0       Paul Scott   \n",
       "1096   88.0       Donna Rios   \n",
       "1097   44.0       Brad Allen   \n",
       "1098   51.0     Chad Kennedy   \n",
       "1099   48.0    Jason Elliott   \n",
       "\n",
       "                                                Address  Height  Weight  \n",
       "0               463 Lewis Lake\\nHernandezfurt, WV 74504   174.0    61.0  \n",
       "1                                                   NaN   168.0    62.0  \n",
       "2                                                   NaN     NaN    60.0  \n",
       "3     91528 Ballard Falls Apt. 779\\nEast Gregory, SD...   170.0    81.0  \n",
       "4                3582 Tracy Lakes\\nNew Shelly, WY 32429   179.0    85.0  \n",
       "...                                                 ...     ...     ...  \n",
       "1095   795 Melissa Forge Suite 460\\nMonicaton, KY 11184   196.0    68.0  \n",
       "1096           59669 Shelby Meadows\\nSaraside, WV 95598   184.0     NaN  \n",
       "1097                                                NaN   176.0    89.0  \n",
       "1098                   Unit 9710 Box 4847\\nDPO AE 62031   199.0     NaN  \n",
       "1099     82102 Lee Drive Apt. 539\\nKellymouth, MP 18346   188.0    61.0  \n",
       "\n",
       "[1100 rows x 5 columns]"
      ]
     },
     "execution_count": 2,
     "metadata": {},
     "output_type": "execute_result"
    }
   ],
   "source": [
    "df = pd.read_csv('27__dane.csv',sep=';')\n",
    "df\n",
    "#sep=None, engine=\"python\")"
   ]
  },
  {
   "cell_type": "code",
   "execution_count": 3,
   "metadata": {},
   "outputs": [],
   "source": [
    "# 2. Usuń duplikaty\n",
    "df = df.drop_duplicates()"
   ]
  },
  {
   "cell_type": "code",
   "execution_count": 4,
   "metadata": {},
   "outputs": [],
   "source": [
    "# 3. Rozbij kolumnę 'Name' na 'Imie' i 'Nazwisko'\n",
    "df = df.copy()\n",
    "df[['Imie', 'Nazwisko']] = df['Name'].str.split(pat=' ', n=1, expand=True)\n",
    "#df[['Imie', 'Nazwisko']] = df['Name'].str.split(' ', 1, expand=True)"
   ]
  },
  {
   "cell_type": "code",
   "execution_count": 5,
   "metadata": {},
   "outputs": [],
   "source": [
    "# 4. Usuń kolumnę 'Name'\n",
    "df = df.drop(columns=['Name'])"
   ]
  },
  {
   "cell_type": "code",
   "execution_count": 6,
   "metadata": {},
   "outputs": [
    {
     "name": "stdout",
     "output_type": "stream",
     "text": [
      "<class 'pandas.core.frame.DataFrame'>\n",
      "Int64Index: 1000 entries, 0 to 1098\n",
      "Data columns (total 6 columns):\n",
      " #   Column    Non-Null Count  Dtype  \n",
      "---  ------    --------------  -----  \n",
      " 0   Age       903 non-null    float64\n",
      " 1   Address   886 non-null    object \n",
      " 2   Height    916 non-null    float64\n",
      " 3   Weight    902 non-null    float64\n",
      " 4   Imie      890 non-null    object \n",
      " 5   Nazwisko  890 non-null    object \n",
      "dtypes: float64(3), object(3)\n",
      "memory usage: 54.7+ KB\n"
     ]
    }
   ],
   "source": [
    "df.info()"
   ]
  },
  {
   "cell_type": "code",
   "execution_count": 7,
   "metadata": {},
   "outputs": [
    {
     "data": {
      "text/html": [
       "<div>\n",
       "<style scoped>\n",
       "    .dataframe tbody tr th:only-of-type {\n",
       "        vertical-align: middle;\n",
       "    }\n",
       "\n",
       "    .dataframe tbody tr th {\n",
       "        vertical-align: top;\n",
       "    }\n",
       "\n",
       "    .dataframe thead th {\n",
       "        text-align: right;\n",
       "    }\n",
       "</style>\n",
       "<table border=\"1\" class=\"dataframe\">\n",
       "  <thead>\n",
       "    <tr style=\"text-align: right;\">\n",
       "      <th></th>\n",
       "      <th>Age</th>\n",
       "      <th>Address</th>\n",
       "      <th>Height</th>\n",
       "      <th>Weight</th>\n",
       "      <th>Imie</th>\n",
       "      <th>Nazwisko</th>\n",
       "    </tr>\n",
       "  </thead>\n",
       "  <tbody>\n",
       "    <tr>\n",
       "      <th>0</th>\n",
       "      <td>False</td>\n",
       "      <td>False</td>\n",
       "      <td>False</td>\n",
       "      <td>False</td>\n",
       "      <td>False</td>\n",
       "      <td>False</td>\n",
       "    </tr>\n",
       "    <tr>\n",
       "      <th>1</th>\n",
       "      <td>False</td>\n",
       "      <td>True</td>\n",
       "      <td>False</td>\n",
       "      <td>False</td>\n",
       "      <td>False</td>\n",
       "      <td>False</td>\n",
       "    </tr>\n",
       "    <tr>\n",
       "      <th>2</th>\n",
       "      <td>False</td>\n",
       "      <td>True</td>\n",
       "      <td>True</td>\n",
       "      <td>False</td>\n",
       "      <td>False</td>\n",
       "      <td>False</td>\n",
       "    </tr>\n",
       "    <tr>\n",
       "      <th>3</th>\n",
       "      <td>False</td>\n",
       "      <td>False</td>\n",
       "      <td>False</td>\n",
       "      <td>False</td>\n",
       "      <td>False</td>\n",
       "      <td>False</td>\n",
       "    </tr>\n",
       "    <tr>\n",
       "      <th>4</th>\n",
       "      <td>False</td>\n",
       "      <td>False</td>\n",
       "      <td>False</td>\n",
       "      <td>False</td>\n",
       "      <td>False</td>\n",
       "      <td>False</td>\n",
       "    </tr>\n",
       "    <tr>\n",
       "      <th>...</th>\n",
       "      <td>...</td>\n",
       "      <td>...</td>\n",
       "      <td>...</td>\n",
       "      <td>...</td>\n",
       "      <td>...</td>\n",
       "      <td>...</td>\n",
       "    </tr>\n",
       "    <tr>\n",
       "      <th>1093</th>\n",
       "      <td>False</td>\n",
       "      <td>False</td>\n",
       "      <td>False</td>\n",
       "      <td>False</td>\n",
       "      <td>True</td>\n",
       "      <td>True</td>\n",
       "    </tr>\n",
       "    <tr>\n",
       "      <th>1094</th>\n",
       "      <td>True</td>\n",
       "      <td>False</td>\n",
       "      <td>False</td>\n",
       "      <td>False</td>\n",
       "      <td>False</td>\n",
       "      <td>False</td>\n",
       "    </tr>\n",
       "    <tr>\n",
       "      <th>1095</th>\n",
       "      <td>False</td>\n",
       "      <td>False</td>\n",
       "      <td>False</td>\n",
       "      <td>False</td>\n",
       "      <td>False</td>\n",
       "      <td>False</td>\n",
       "    </tr>\n",
       "    <tr>\n",
       "      <th>1096</th>\n",
       "      <td>False</td>\n",
       "      <td>False</td>\n",
       "      <td>False</td>\n",
       "      <td>True</td>\n",
       "      <td>False</td>\n",
       "      <td>False</td>\n",
       "    </tr>\n",
       "    <tr>\n",
       "      <th>1098</th>\n",
       "      <td>False</td>\n",
       "      <td>False</td>\n",
       "      <td>False</td>\n",
       "      <td>True</td>\n",
       "      <td>False</td>\n",
       "      <td>False</td>\n",
       "    </tr>\n",
       "  </tbody>\n",
       "</table>\n",
       "<p>1000 rows × 6 columns</p>\n",
       "</div>"
      ],
      "text/plain": [
       "        Age  Address  Height  Weight   Imie  Nazwisko\n",
       "0     False    False   False   False  False     False\n",
       "1     False     True   False   False  False     False\n",
       "2     False     True    True   False  False     False\n",
       "3     False    False   False   False  False     False\n",
       "4     False    False   False   False  False     False\n",
       "...     ...      ...     ...     ...    ...       ...\n",
       "1093  False    False   False   False   True      True\n",
       "1094   True    False   False   False  False     False\n",
       "1095  False    False   False   False  False     False\n",
       "1096  False    False   False    True  False     False\n",
       "1098  False    False   False    True  False     False\n",
       "\n",
       "[1000 rows x 6 columns]"
      ]
     },
     "execution_count": 7,
     "metadata": {},
     "output_type": "execute_result"
    }
   ],
   "source": [
    "# Naprawiam rzędy, które zawierają brakujące dane - najpierw szukam braków\n",
    "df.isnull()"
   ]
  },
  {
   "cell_type": "code",
   "execution_count": 8,
   "metadata": {},
   "outputs": [
    {
     "data": {
      "text/plain": [
       "Age          97\n",
       "Address     114\n",
       "Height       84\n",
       "Weight       98\n",
       "Imie        110\n",
       "Nazwisko    110\n",
       "dtype: int64"
      ]
     },
     "execution_count": 8,
     "metadata": {},
     "output_type": "execute_result"
    }
   ],
   "source": [
    "df.isnull().sum()"
   ]
  },
  {
   "cell_type": "code",
   "execution_count": 9,
   "metadata": {},
   "outputs": [],
   "source": [
    "# 5. Napraw brakujące dane\n",
    "# liczby → medianą, teksty → string 'nieznane'\n",
    "df = df.copy()\n",
    "for col in df.select_dtypes(include=['float64', 'int64']).columns:\n",
    "    df[col] = df[col].fillna(df[col].median())\n",
    "    #print(f\"mediana {df[col].median()}\")\n",
    "    #print(f\"średnia {df[col].mean()}\")\n",
    "\n",
    "for col in df.select_dtypes(include=['object']).columns:\n",
    "    df[col] = df[col].fillna('nieznane')"
   ]
  },
  {
   "cell_type": "code",
   "execution_count": 10,
   "metadata": {},
   "outputs": [],
   "source": [
    "# 6. Zmień nazwy kolumn\n",
    "#df = df.copy()\n",
    "df = df.rename(columns={\n",
    "    'Age': 'Wiek',\n",
    "    'Height': 'Wzrost',\n",
    "    'Weight': 'Waga',\n",
    "    'Address': 'Adres'\n",
    "})"
   ]
  },
  {
   "cell_type": "code",
   "execution_count": 11,
   "metadata": {},
   "outputs": [],
   "source": [
    "# 7. Dodaj kolumnę BMI = Waga / (Wzrost / 100)^2\n",
    "df['BMI'] = df['Waga'] / (df['Wzrost'] / 100) ** 2"
   ]
  },
  {
   "cell_type": "code",
   "execution_count": 12,
   "metadata": {},
   "outputs": [],
   "source": [
    "# 8. Posortuj po BMI malejąco\n",
    "df = df.sort_values(by='BMI', ascending=False)"
   ]
  },
  {
   "cell_type": "code",
   "execution_count": 13,
   "metadata": {},
   "outputs": [
    {
     "name": "stdout",
     "output_type": "stream",
     "text": [
      "✅ Plik został zapisany jako: 27__dane_wynikowe.csv\n"
     ]
    }
   ],
   "source": [
    "# 9. Zapisz wynik do nowego pliku CSV\n",
    "df.to_excel(\"27plik.xlsx\")\n",
    "output_path = \"27__dane_wynikowe.csv\"\n",
    "df.to_csv(output_path, index=False)\n",
    "\n",
    "print(f\"✅ Plik został zapisany jako: {output_path}\")"
   ]
  },
  {
   "cell_type": "markdown",
   "metadata": {},
   "source": [
    "Plik Excela wygląda poprawnie, plik CSV wygląda źle, tak jakby Python wstawiał jakieś znaki nowych linii (LF), aby tego uniknąć, poniżej przed zapisanie df do pliku CSV, usunięto znaki LF i zastąpiono je spacjami."
   ]
  },
  {
   "cell_type": "code",
   "execution_count": 14,
   "metadata": {},
   "outputs": [],
   "source": [
    "df = df.replace({r'[\\r\\n]+': ' '}, regex=True)\n",
    "df.to_csv(\"27__dane_wynikowe2.csv\", index=False, sep=\";\")"
   ]
  }
 ],
 "metadata": {
  "kernelspec": {
   "display_name": "Python 3 (ipykernel)",
   "language": "python",
   "name": "python3"
  },
  "language_info": {
   "codemirror_mode": {
    "name": "ipython",
    "version": 3
   },
   "file_extension": ".py",
   "mimetype": "text/x-python",
   "name": "python",
   "nbconvert_exporter": "python",
   "pygments_lexer": "ipython3",
   "version": "3.11.11"
  }
 },
 "nbformat": 4,
 "nbformat_minor": 4
}
